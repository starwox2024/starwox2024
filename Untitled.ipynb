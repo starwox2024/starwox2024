{
 "cells": [
  {
   "cell_type": "code",
   "execution_count": null,
   "id": "03e314dc-14b9-46c8-9a6a-ee038d32fca3",
   "metadata": {},
   "outputs": [],
   "source": []
  },
  {
   "cell_type": "code",
   "execution_count": null,
   "id": "585b9221-996a-4882-a9ae-8b12586ea301",
   "metadata": {},
   "outputs": [],
   "source": [
    "import os\n",
    "import google.generativeai as genai"
   ]
  },
  {
   "cell_type": "code",
   "execution_count": 1,
   "id": "0736c10b-a9f2-4782-95cc-6bbe23ba262d",
   "metadata": {},
   "outputs": [
    {
     "name": "stdout",
     "output_type": "stream",
     "text": [
      "{'name': 'John Doe', 'age': 30, 'is_employee': True}\n"
     ]
    }
   ],
   "source": [
    "import ast \n",
    "# Example string \n",
    "dict_string = \"{'name': 'John Doe', 'age': 30, 'is_employee': True}\" \n",
    "# Convert string to dictionary \n",
    "data = ast.literal_eval(dict_string) \n",
    "# Print the resulting dictionary \n",
    "print(data)"
   ]
  },
  {
   "cell_type": "code",
   "execution_count": 3,
   "id": "4d779700-1844-439f-bdcd-6d7053b51042",
   "metadata": {},
   "outputs": [
    {
     "data": {
      "text/plain": [
       "{'name': 'John Doe', 'age': 30, 'is_employee': True}"
      ]
     },
     "execution_count": 3,
     "metadata": {},
     "output_type": "execute_result"
    }
   ],
   "source": [
    "data"
   ]
  },
  {
   "cell_type": "code",
   "execution_count": null,
   "id": "49f6f691-8df6-4004-bf41-2a170b7d71bd",
   "metadata": {},
   "outputs": [],
   "source": []
  }
 ],
 "metadata": {
  "kernelspec": {
   "display_name": "Python 3 (ipykernel)",
   "language": "python",
   "name": "python3"
  },
  "language_info": {
   "codemirror_mode": {
    "name": "ipython",
    "version": 3
   },
   "file_extension": ".py",
   "mimetype": "text/x-python",
   "name": "python",
   "nbconvert_exporter": "python",
   "pygments_lexer": "ipython3",
   "version": "3.12.4"
  }
 },
 "nbformat": 4,
 "nbformat_minor": 5
}
